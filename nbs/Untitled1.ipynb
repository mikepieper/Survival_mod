{
 "cells": [
  {
   "cell_type": "code",
   "execution_count": 1,
   "id": "acbb7c06-0964-4865-b017-0db4f11b3036",
   "metadata": {},
   "outputs": [],
   "source": [
    "%load_ext autoreload\n",
    "%autoreload 2\n",
    "%matplotlib inline"
   ]
  },
  {
   "cell_type": "code",
   "execution_count": 40,
   "id": "a691100b-2681-4194-8a9d-ba83d10ced4a",
   "metadata": {},
   "outputs": [],
   "source": [
    "import os\n",
    "import numpy as np\n",
    "import pandas as pd\n",
    "import matplotlib.pyplot as plt\n",
    "from easydict import EasyDict as edict\n",
    "\n",
    "from lifelines import KaplanMeierFitter\n",
    "\n",
    "from utils.config import cfg, cfg_from_file\n",
    "from dataset_loader import load_data"
   ]
  },
  {
   "cell_type": "code",
   "execution_count": 18,
   "id": "6d8fbecf-8e01-4286-95a1-68c0c6066cab",
   "metadata": {},
   "outputs": [],
   "source": [
    "\n",
    "\n",
    "\n",
    "args = edict({\n",
    "    \"cfg_file\": './config/kidney/emd_cens_kidney.yml',\n",
    "    \"gpu_id\": -1,\n",
    "    \"manual_seed\": 1234,\n",
    "})\n",
    "cfg_from_file(args.cfg_file)"
   ]
  },
  {
   "cell_type": "code",
   "execution_count": 29,
   "id": "ac123b78-53a1-467e-a496-b7447628e120",
   "metadata": {},
   "outputs": [
    {
     "name": "stdout",
     "output_type": "stream",
     "text": [
      "\n",
      "Dataset kidney info:\n",
      "Nb. col: 67\n",
      "Nb unique t: 7299\n",
      "Min t: 0.0\n",
      "Max t: 21.356164383561644\n"
     ]
    }
   ],
   "source": [
    "shuffled, _ = load_data(cfg)"
   ]
  },
  {
   "cell_type": "code",
   "execution_count": 28,
   "id": "1dc563c7-9f15-4312-8686-b3f2901b25f8",
   "metadata": {},
   "outputs": [
    {
     "name": "stdout",
     "output_type": "stream",
     "text": [
      "\n",
      "Dataset kidney info:\n",
      "Nb. col: 67\n",
      "Nb unique t: 7299\n",
      "Min t: 0.0\n",
      "Max t: 21.356164383561644\n"
     ]
    }
   ],
   "source": [
    "unshuffled, _ = load_data(cfg)"
   ]
  },
  {
   "cell_type": "code",
   "execution_count": 31,
   "id": "3df3c5b7-e5cb-45ea-b2e7-52a28e1b82f3",
   "metadata": {},
   "outputs": [
    {
     "data": {
      "text/plain": [
       "(5.898647, 5.8986473)"
      ]
     },
     "execution_count": 31,
     "metadata": {},
     "output_type": "execute_result"
    }
   ],
   "source": [
    "unshuffled[:,0].mean(), shuffled[:,0].mean()"
   ]
  },
  {
   "cell_type": "code",
   "execution_count": 33,
   "id": "ed3e5365-c9f8-4898-abc0-14a00f23ecc8",
   "metadata": {},
   "outputs": [
    {
     "data": {
      "text/plain": [
       "(4.469071, 4.469071)"
      ]
     },
     "execution_count": 33,
     "metadata": {},
     "output_type": "execute_result"
    }
   ],
   "source": [
    "unshuffled[:,0].std(), shuffled[:,0].std()"
   ]
  },
  {
   "cell_type": "code",
   "execution_count": 36,
   "id": "5bc9937f-5f86-4932-85b7-f05661a34d71",
   "metadata": {},
   "outputs": [
    {
     "data": {
      "text/plain": [
       "array([[4.9205480e+00, 1.0000000e+00],\n",
       "       [1.7353424e+01, 0.0000000e+00],\n",
       "       [1.4112329e+01, 1.0000000e+00],\n",
       "       [1.3610959e+01, 1.0000000e+00],\n",
       "       [1.4923287e+01, 1.0000000e+00],\n",
       "       [2.0476713e+01, 0.0000000e+00],\n",
       "       [5.9342465e+00, 1.0000000e+00],\n",
       "       [1.2345205e+01, 1.0000000e+00],\n",
       "       [2.0928766e+01, 0.0000000e+00],\n",
       "       [2.7397261e-03, 1.0000000e+00]], dtype=float32)"
      ]
     },
     "execution_count": 36,
     "metadata": {},
     "output_type": "execute_result"
    }
   ],
   "source": [
    "unshuffled[:10,:2]"
   ]
  },
  {
   "cell_type": "code",
   "execution_count": 37,
   "id": "e9009d49-90ae-47a8-b0e4-c99f59e33f4b",
   "metadata": {},
   "outputs": [
    {
     "data": {
      "text/plain": [
       "array([[3.5150685, 1.       ],\n",
       "       [1.0520548, 1.       ],\n",
       "       [3.0219178, 1.       ],\n",
       "       [3.0630138, 0.       ],\n",
       "       [6.0958905, 0.       ],\n",
       "       [5.860274 , 0.       ],\n",
       "       [3.9972603, 0.       ],\n",
       "       [8.00548  , 0.       ],\n",
       "       [3.9835618, 1.       ],\n",
       "       [3.9671233, 0.       ]], dtype=float32)"
      ]
     },
     "execution_count": 37,
     "metadata": {},
     "output_type": "execute_result"
    }
   ],
   "source": [
    "shuffled[:10,:2]"
   ]
  },
  {
   "cell_type": "code",
   "execution_count": 38,
   "id": "555e33d1-4969-4f8a-bfef-28e3b72a6735",
   "metadata": {},
   "outputs": [
    {
     "data": {
      "text/plain": [
       "(array([41062., 34806., 26520., 21036., 16087., 11451.,  7727.,  4642.,\n",
       "         2249.,   853.]),\n",
       " array([ 0.       ,  2.1356165,  4.271233 ,  6.4068494,  8.542466 ,\n",
       "        10.678082 , 12.813699 , 14.949315 , 17.084932 , 19.220549 ,\n",
       "        21.356165 ], dtype=float32),\n",
       " <BarContainer object of 10 artists>)"
      ]
     },
     "execution_count": 38,
     "metadata": {},
     "output_type": "execute_result"
    },
    {
     "data": {
      "image/png": "[encoded data removed]",
      "text/plain": [
       "<Figure size 432x288 with 1 Axes>"
      ]
     },
     "metadata": {
      "needs_background": "light"
     },
     "output_type": "display_data"
    }
   ],
   "source": [
    "plt.hist(unshuffled[:,0])"
   ]
  },
  {
   "cell_type": "code",
   "execution_count": 39,
   "id": "2cf5db34-b845-40d6-9193-b428bb7fa550",
   "metadata": {},
   "outputs": [
    {
     "data": {
      "text/plain": [
       "(array([41062., 34806., 26520., 21036., 16087., 11451.,  7727.,  4642.,\n",
       "         2249.,   853.]),\n",
       " array([ 0.       ,  2.1356165,  4.271233 ,  6.4068494,  8.542466 ,\n",
       "        10.678082 , 12.813699 , 14.949315 , 17.084932 , 19.220549 ,\n",
       "        21.356165 ], dtype=float32),\n",
       " <BarContainer object of 10 artists>)"
      ]
     },
     "execution_count": 39,
     "metadata": {},
     "output_type": "execute_result"
    },
    {
     "data": {
      "image/png": "[encoded data removed]",
      "text/plain": [
       "<Figure size 432x288 with 1 Axes>"
      ]
     },
     "metadata": {
      "needs_background": "light"
     },
     "output_type": "display_data"
    }
   ],
   "source": [
    "plt.hist(shuffled[:,0])"
   ]
  },
  {
   "cell_type": "code",
   "execution_count": 43,
   "id": "13f1a5b8-b1b4-4118-8a82-ca8e30fb7a13",
   "metadata": {},
   "outputs": [
    {
     "data": {
      "text/plain": [
       "<AxesSubplot:xlabel='timeline'>"
      ]
     },
     "execution_count": 43,
     "metadata": {},
     "output_type": "execute_result"
    },
    {
     "data": {
      "image/png": "[encoded data removed]",
      "text/plain": [
       "<Figure size 432x288 with 1 Axes>"
      ]
     },
     "metadata": {
      "needs_background": "light"
     },
     "output_type": "display_data"
    }
   ],
   "source": [
    "kmf = KaplanMeierFitter(label=\"Shuffled\")\n",
    "kmf.fit(durations=shuffled[:,0], event_observed=shuffled[:,1])\n",
    "kmf.plot()"
   ]
  },
  {
   "cell_type": "code",
   "execution_count": 44,
   "id": "b7398375-b83d-4ece-81ff-4d7116a15f1c",
   "metadata": {},
   "outputs": [
    {
     "data": {
      "text/plain": [
       "<AxesSubplot:xlabel='timeline'>"
      ]
     },
     "execution_count": 44,
     "metadata": {},
     "output_type": "execute_result"
    },
    {
     "data": {
      "image/png": "[encoded data removed]",
      "text/plain": [
       "<Figure size 432x288 with 1 Axes>"
      ]
     },
     "metadata": {
      "needs_background": "light"
     },
     "output_type": "display_data"
    }
   ],
   "source": [
    "kmf = KaplanMeierFitter(label=\"Unshuffled\")\n",
    "kmf.fit(durations=unshuffled[:,0], event_observed=unshuffled[:,1])\n",
    "kmf.plot()"
   ]
  },
  {
   "cell_type": "code",
   "execution_count": null,
   "id": "da588ab1-ab82-4599-bac0-df9c61cb1af5",
   "metadata": {},
   "outputs": [],
   "source": []
  }
 ],
 "metadata": {
  "kernelspec": {
   "display_name": "Python 3",
   "language": "python",
   "name": "python3"
  },
  "language_info": {
   "codemirror_mode": {
    "name": "ipython",
    "version": 3
   },
   "file_extension": ".py",
   "mimetype": "text/x-python",
   "name": "python",
   "nbconvert_exporter": "python",
   "pygments_lexer": "ipython3",
   "version": "3.8.2"
  }
 },
 "nbformat": 4,
 "nbformat_minor": 5
}
