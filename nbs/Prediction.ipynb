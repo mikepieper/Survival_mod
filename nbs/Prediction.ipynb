{
 "cells": [
  {
   "cell_type": "code",
   "execution_count": 1,
   "id": "4ea93656-f206-41f1-860c-5404df8cb09b",
   "metadata": {},
   "outputs": [],
   "source": [
    "%load_ext autoreload\n",
    "%autoreload 2\n",
    "%matplotlib inline\n",
    "import matplotlib.pyplot as plt"
   ]
  },
  {
   "cell_type": "code",
   "execution_count": 2,
   "id": "93bdb87c-bfbe-4349-b68a-346a3c962efa",
   "metadata": {},
   "outputs": [],
   "source": [
    "from utils.config import cfg, cfg_from_file\n",
    "cfg_from_file(\"config/kidney/emd_cens_kidney.yml\")"
   ]
  },
  {
   "cell_type": "code",
   "execution_count": 3,
   "id": "3faf60cb-dbb7-485f-b2d0-5411c99a9dfe",
   "metadata": {},
   "outputs": [],
   "source": [
    "from dataset_loader import load_data"
   ]
  },
  {
   "cell_type": "code",
   "execution_count": 4,
   "id": "c6877334-1053-48c1-9aae-9a92df32799d",
   "metadata": {},
   "outputs": [
    {
     "name": "stdout",
     "output_type": "stream",
     "text": [
      "\n",
      "Dataset kidney info:\n",
      "Nb. col: 67\n",
      "Nb unique t: 7299\n",
      "Min t: 0.0\n",
      "Max t: 21.356164383561644\n"
     ]
    }
   ],
   "source": [
    "data, dict_col = load_data(cfg)"
   ]
  },
  {
   "cell_type": "code",
   "execution_count": 11,
   "id": "2a15bf26-a5fa-4da8-9d29-3375eec0304d",
   "metadata": {},
   "outputs": [],
   "source": [
    "import torch\n",
    "import os\n",
    "path = \"/local_workspace/piepmike/Survival_Pytorch_EMD/results/No_Shuffling/LR0.001_L20.0001_PRIOR1.0/Models/model_epoch_bestsplit3.pth\"\n",
    "state_dict = torch.load(path, map_location=lambda storage, loc: storage)"
   ]
  },
  {
   "cell_type": "code",
   "execution_count": 23,
   "id": "96fd030b-73e9-4179-8159-0e144fe7721e",
   "metadata": {},
   "outputs": [],
   "source": [
    "from models import MLP\n",
    "from utils.config import cfg, cfg_from_file\n",
    "from trainer.emd_trainer import EMDTrainer"
   ]
  },
  {
   "cell_type": "code",
   "execution_count": 14,
   "id": "533ad001-4256-496d-a18d-611cdb9d12aa",
   "metadata": {},
   "outputs": [
    {
     "name": "stdout",
     "output_type": "stream",
     "text": [
      "{'CONFIG_NAME': 'emd_cens_kidney',\n",
      " 'CUDA': False,\n",
      " 'DATA': {'ADD_CENS': False,\n",
      "          'DATASET': 'kidney',\n",
      "          'DEATH_AT_CENSOR_TIME': False,\n",
      "          'NO_CENSORED_DATA': False,\n",
      "          'PATH': 'datasets/',\n",
      "          'SPLITS': '[0, 1, 2, 3, 4]'},\n",
      " 'EMD': {'PRIOR': [1.0]},\n",
      " 'GPU_ID': '0',\n",
      " 'TRAIN': {'BATCH_NORM': True,\n",
      "           'BATCH_SIZE': 512,\n",
      "           'DIV_TIME': 1,\n",
      "           'DROP_HIDDEN': '[0.5, 0.5, 0.5]',\n",
      "           'DROP_INPUT': 0.2,\n",
      "           'L2_COEFF': ['1e-5', '1e-4'],\n",
      "           'LAYER_SIZES': '[100, 100, 100]',\n",
      "           'LOSS_TYPE': 'emd_loss',\n",
      "           'LR': ['1e-4', '1e-3'],\n",
      "           'MAX_EPOCH': 1000,\n",
      "           'MODEL': 'emd',\n",
      "           'PATIENCE': 20},\n",
      " 'VERBOSE': False}\n",
      "\n",
      "Dataset kidney info:\n",
      "Nb. col: 67\n",
      "Nb unique t: 7299\n",
      "Min t: 0.0\n",
      "Max t: 21.356164383561644\n"
     ]
    }
   ],
   "source": [
    "cfg.CUDA = False\n",
    "trainer = EMDTrainer(0)\n",
    "trainer.model.load_state_dict(state_dict)\n",
    "trainer.model.eval();"
   ]
  },
  {
   "cell_type": "code",
   "execution_count": 15,
   "id": "494f939b-4dbb-487d-8513-9339ba2048ba",
   "metadata": {},
   "outputs": [
    {
     "data": {
      "text/plain": [
       "[<matplotlib.lines.Line2D at 0x7f0d4b028d60>]"
      ]
     },
     "execution_count": 15,
     "metadata": {},
     "output_type": "execute_result"
    },
    {
     "data": {
      "image/png": "[encoded data removed]",
      "text/plain": [
       "<Figure size 432x288 with 1 Axes>"
      ]
     },
     "metadata": {
      "needs_background": "light"
     },
     "output_type": "display_data"
    }
   ],
   "source": [
    "import numpy as np\n",
    "idx = np.random.choice(len(data))\n",
    "x = data[idx:idx+1]\n",
    "cdfs = trainer.predict_batch(x)\n",
    "plt.plot(1-cdfs[0], color='green')"
   ]
  },
  {
   "cell_type": "code",
   "execution_count": 19,
   "id": "317ed964-a0d5-4d51-bc52-3d88ea6a07a5",
   "metadata": {},
   "outputs": [
    {
     "data": {
      "text/plain": [
       "array([[1.56660541e-03, 3.50843929e-02, 9.43403468e-02, 1.87940270e-01,\n",
       "        3.22286308e-01, 4.77680504e-01, 6.31145477e-01, 7.78288782e-01,\n",
       "        9.06524777e-01, 9.57044780e-01, 9.70829785e-01, 9.76428211e-01,\n",
       "        9.79842126e-01, 9.82631803e-01, 9.84966993e-01, 9.87030864e-01,\n",
       "        9.88955140e-01, 9.90824699e-01, 9.92668927e-01, 9.94503081e-01,\n",
       "        9.96336639e-01, 9.98168468e-01, 9.99999940e-01],\n",
       "       [1.25058810e-03, 8.86197239e-02, 2.18955979e-01, 3.80653679e-01,\n",
       "        5.73634207e-01, 7.43537068e-01, 8.72361362e-01, 9.57380414e-01,\n",
       "        9.92010117e-01, 9.96045411e-01, 9.96391594e-01, 9.96482372e-01,\n",
       "        9.96548891e-01, 9.96750593e-01, 9.97043371e-01, 9.97379243e-01,\n",
       "        9.97738898e-01, 9.98109400e-01, 9.98485029e-01, 9.98863459e-01,\n",
       "        9.99242842e-01, 9.99621511e-01, 9.99999940e-01],\n",
       "       [1.59523147e-03, 5.00526391e-02, 1.31027058e-01, 2.49469027e-01,\n",
       "        4.09622550e-01, 5.79540014e-01, 7.33733475e-01, 8.65132451e-01,\n",
       "        9.55591619e-01, 9.80027616e-01, 9.84722257e-01, 9.86396492e-01,\n",
       "        9.87480938e-01, 9.88816619e-01, 9.90145624e-01, 9.91420865e-01,\n",
       "        9.92662966e-01, 9.93892312e-01, 9.95115459e-01, 9.96336937e-01,\n",
       "        9.97559071e-01, 9.98779714e-01, 9.99999940e-01],\n",
       "       [1.47597538e-03, 9.33971405e-02, 2.27496475e-01, 3.91517460e-01,\n",
       "        5.84528029e-01, 7.51374125e-01, 8.76623690e-01, 9.58398700e-01,\n",
       "        9.91618574e-01, 9.95536208e-01, 9.95890737e-01, 9.95987236e-01,\n",
       "        9.96059537e-01, 9.96283412e-01, 9.96613383e-01, 9.96995389e-01,\n",
       "        9.97406542e-01, 9.97831047e-01, 9.98261809e-01, 9.98696029e-01,\n",
       "        9.99131322e-01, 9.99565840e-01, 1.00000000e+00],\n",
       "       [1.67245907e-03, 4.78957146e-02, 1.25526875e-01, 2.40298823e-01,\n",
       "        3.96633953e-01, 5.64211905e-01, 7.18153059e-01, 8.51970673e-01,\n",
       "        9.48257625e-01, 9.76329684e-01, 9.82177377e-01, 9.84337449e-01,\n",
       "        9.85727251e-01, 9.87318277e-01, 9.88856018e-01, 9.90311980e-01,\n",
       "        9.91720200e-01, 9.93109763e-01, 9.94490445e-01, 9.95868325e-01,\n",
       "        9.97246742e-01, 9.98623550e-01, 9.99999940e-01],\n",
       "       [1.61223463e-03, 4.53709550e-02, 1.19698487e-01, 2.31002077e-01,\n",
       "        3.84119540e-01, 5.50498843e-01, 7.05359042e-01, 8.42306912e-01,\n",
       "        9.43703234e-01, 9.74585891e-01, 9.81230259e-01, 9.83702719e-01,\n",
       "        9.85275209e-01, 9.86979604e-01, 9.88587379e-01, 9.90091503e-01,\n",
       "        9.91536975e-01, 9.92959440e-01, 9.94370997e-01, 9.95778859e-01,\n",
       "        9.97187078e-01, 9.98593748e-01, 9.99999940e-01],\n",
       "       [1.48472365e-03, 8.92361477e-02, 2.18542159e-01, 3.79048944e-01,\n",
       "        5.69709957e-01, 7.38248527e-01, 8.67297351e-01, 9.53679800e-01,\n",
       "        9.90466237e-01, 9.95036900e-01, 9.95473325e-01, 9.95594323e-01,\n",
       "        9.95683908e-01, 9.95942354e-01, 9.96311367e-01, 9.96732116e-01,\n",
       "        9.97181356e-01, 9.97643530e-01, 9.98111784e-01, 9.98583496e-01,\n",
       "        9.99056339e-01, 9.99528289e-01, 9.99999881e-01],\n",
       "       [7.31689681e-04, 1.60838336e-01, 3.63026917e-01, 5.58228910e-01,\n",
       "        7.52025425e-01, 8.80874932e-01, 9.57546413e-01, 9.92537498e-01,\n",
       "        9.99282062e-01, 9.99517560e-01, 9.99524117e-01, 9.99525249e-01,\n",
       "        9.99526262e-01, 9.99537170e-01, 9.99564588e-01, 9.99605298e-01,\n",
       "        9.99655366e-01, 9.99710023e-01, 9.99767005e-01, 9.99825120e-01,\n",
       "        9.99883592e-01, 9.99941826e-01, 1.00000012e+00],\n",
       "       [1.07058673e-03, 1.07636653e-01, 2.59981185e-01, 4.34924096e-01,\n",
       "        6.32965684e-01, 7.92568743e-01, 9.06427622e-01, 9.74003494e-01,\n",
       "        9.96096969e-01, 9.97911036e-01, 9.98022914e-01, 9.98048425e-01,\n",
       "        9.98068154e-01, 9.98155057e-01, 9.98302698e-01, 9.98485148e-01,\n",
       "        9.98688400e-01, 9.98901308e-01, 9.99118865e-01, 9.99338925e-01,\n",
       "        9.99559641e-01, 9.99779880e-01, 1.00000000e+00],\n",
       "       [9.51260972e-06, 5.59329808e-01, 8.71031702e-01, 9.58614767e-01,\n",
       "        9.92946684e-01, 9.98871446e-01, 9.99923468e-01, 9.99999583e-01,\n",
       "        9.99999940e-01, 9.99999940e-01, 9.99999940e-01, 9.99999940e-01,\n",
       "        9.99999940e-01, 9.99999940e-01, 9.99999940e-01, 9.99999940e-01,\n",
       "        9.99999940e-01, 9.99999940e-01, 9.99999940e-01, 9.99999940e-01,\n",
       "        9.99999940e-01, 9.99999940e-01, 9.99999940e-01],\n",
       "       [1.19589281e-03, 1.40043855e-01, 3.20256323e-01, 5.08525789e-01,\n",
       "        7.04345047e-01, 8.47298443e-01, 9.38655436e-01, 9.85852599e-01,\n",
       "        9.97975469e-01, 9.98668194e-01, 9.98700559e-01, 9.98707533e-01,\n",
       "        9.98713434e-01, 9.98754382e-01, 9.98839319e-01, 9.98955190e-01,\n",
       "        9.99091208e-01, 9.99236882e-01, 9.99387324e-01, 9.99540269e-01,\n",
       "        9.99693811e-01, 9.99846935e-01, 1.00000000e+00],\n",
       "       [8.33961414e-04, 1.45072773e-01, 3.33522201e-01, 5.24658501e-01,\n",
       "        7.21312165e-01, 8.60104859e-01, 9.46775198e-01, 9.89303470e-01,\n",
       "        9.98831213e-01, 9.99258578e-01, 9.99273598e-01, 9.99276340e-01,\n",
       "        9.99278724e-01, 9.99298871e-01, 9.99344110e-01, 9.99407947e-01,\n",
       "        9.99484241e-01, 9.99566615e-01, 9.99651909e-01, 9.99738753e-01,\n",
       "        9.99826014e-01, 9.99913037e-01, 1.00000000e+00],\n",
       "       [4.46957449e-04, 2.16184542e-01, 4.61439908e-01, 6.60909891e-01,\n",
       "        8.35881114e-01, 9.32028890e-01, 9.80674922e-01, 9.97889340e-01,\n",
       "        9.99857128e-01, 9.99888241e-01, 9.99888599e-01, 9.99888659e-01,\n",
       "        9.99888718e-01, 9.99890089e-01, 9.99894917e-01, 9.99903500e-01,\n",
       "        9.99915123e-01, 9.99928296e-01, 9.99942243e-01, 9.99956667e-01,\n",
       "        9.99971151e-01, 9.99985576e-01, 1.00000000e+00],\n",
       "       [1.42634800e-03, 8.43595266e-02, 2.08903089e-01, 3.66061687e-01,\n",
       "        5.55682659e-01, 7.26580560e-01, 8.59218597e-01, 9.49603736e-01,\n",
       "        9.89423633e-01, 9.94707644e-01, 9.95231569e-01, 9.95378137e-01,\n",
       "        9.95484710e-01, 9.95770216e-01, 9.96164799e-01, 9.96607602e-01,\n",
       "        9.97076213e-01, 9.97556627e-01, 9.98042583e-01, 9.98531640e-01,\n",
       "        9.99021769e-01, 9.99511063e-01, 1.00000000e+00],\n",
       "       [1.32632453e-03, 7.44766444e-02, 1.88522756e-01, 3.37513059e-01,\n",
       "        5.23078680e-01, 6.96726501e-01, 8.37255359e-01, 9.37980413e-01,\n",
       "        9.86321568e-01, 9.93681014e-01, 9.94488001e-01, 9.94718552e-01,\n",
       "        9.94880080e-01, 9.95246053e-01, 9.95715737e-01, 9.96223867e-01,\n",
       "        9.96751308e-01, 9.97287571e-01, 9.97827888e-01, 9.98370707e-01,\n",
       "        9.98914540e-01, 9.99457419e-01, 1.00000000e+00],\n",
       "       [8.07780889e-04, 1.44961938e-01, 3.34288150e-01, 5.25188208e-01,\n",
       "        7.22006738e-01, 8.59858096e-01, 9.46747482e-01, 9.89389539e-01,\n",
       "        9.98867452e-01, 9.99286890e-01, 9.99301374e-01, 9.99303997e-01,\n",
       "        9.99306262e-01, 9.99325573e-01, 9.99368966e-01, 9.99430358e-01,\n",
       "        9.99503732e-01, 9.99582946e-01, 9.99665022e-01, 9.99748647e-01,\n",
       "        9.99832571e-01, 9.99916315e-01, 1.00000000e+00],\n",
       "       [6.89095818e-04, 1.82632267e-01, 4.00510967e-01, 5.98261356e-01,\n",
       "        7.84774423e-01, 9.02226269e-01, 9.67753828e-01, 9.95109737e-01,\n",
       "        9.99560237e-01, 9.99678850e-01, 9.99681473e-01, 9.99681890e-01,\n",
       "        9.99682307e-01, 9.99688089e-01, 9.99704719e-01, 9.99731004e-01,\n",
       "        9.99764442e-01, 9.99801517e-01, 9.99840379e-01, 9.99880195e-01,\n",
       "        9.99920189e-01, 9.99960124e-01, 9.99999940e-01],\n",
       "       [1.61800394e-03, 5.81518412e-02, 1.49878427e-01, 2.79150784e-01,\n",
       "        4.48717386e-01, 6.21023655e-01, 7.71519661e-01, 8.93104613e-01,\n",
       "        9.68315959e-01, 9.85449076e-01, 9.88278270e-01, 9.89235222e-01,\n",
       "        9.89874482e-01, 9.90826428e-01, 9.91853774e-01, 9.92878675e-01,\n",
       "        9.93897736e-01, 9.94915247e-01, 9.95931745e-01, 9.96948898e-01,\n",
       "        9.97966945e-01, 9.98983681e-01, 9.99999940e-01],\n",
       "       [1.16245507e-03, 8.79001021e-02, 2.18948185e-01, 3.80346179e-01,\n",
       "        5.73984325e-01, 7.42267311e-01, 8.72030735e-01, 9.57810819e-01,\n",
       "        9.92331147e-01, 9.96311724e-01, 9.96645570e-01, 9.96730626e-01,\n",
       "        9.96792376e-01, 9.96980190e-01, 9.97252703e-01, 9.97565031e-01,\n",
       "        9.97899294e-01, 9.98243511e-01, 9.98592556e-01, 9.98944163e-01,\n",
       "        9.99296665e-01, 9.99648452e-01, 1.00000012e+00],\n",
       "       [6.75572897e-04, 2.09105939e-01, 4.43047196e-01, 6.42461956e-01,\n",
       "        8.20816696e-01, 9.23689425e-01, 9.76740181e-01, 9.96955454e-01,\n",
       "        9.99722421e-01, 9.99779224e-01, 9.99780297e-01, 9.99780416e-01,\n",
       "        9.99780595e-01, 9.99783695e-01, 9.99794006e-01, 9.99811411e-01,\n",
       "        9.99834418e-01, 9.99860227e-01, 9.99887526e-01, 9.99915600e-01,\n",
       "        9.99943793e-01, 9.99971986e-01, 1.00000000e+00],\n",
       "       [4.69799881e-04, 1.97637126e-01, 4.30918097e-01, 6.30871177e-01,\n",
       "        8.12910676e-01, 9.19365406e-01, 9.75703478e-01, 9.97027338e-01,\n",
       "        9.99794841e-01, 9.99848127e-01, 9.99848962e-01, 9.99849081e-01,\n",
       "        9.99849141e-01, 9.99851346e-01, 9.99858499e-01, 9.99870539e-01,\n",
       "        9.99886334e-01, 9.99904096e-01, 9.99922812e-01, 9.99942124e-01,\n",
       "        9.99961495e-01, 9.99980807e-01, 1.00000012e+00],\n",
       "       [1.18414836e-03, 1.01265475e-01, 2.45616689e-01, 4.16240931e-01,\n",
       "        6.12760305e-01, 7.76546717e-01, 8.95448029e-01, 9.68757927e-01,\n",
       "        9.94833708e-01, 9.97269869e-01, 9.97441471e-01, 9.97483253e-01,\n",
       "        9.97515023e-01, 9.97637570e-01, 9.97834563e-01, 9.98071849e-01,\n",
       "        9.98332560e-01, 9.98604119e-01, 9.98880863e-01, 9.99160409e-01,\n",
       "        9.99440730e-01, 9.99720454e-01, 1.00000000e+00]], dtype=float32)"
      ]
     },
     "execution_count": 19,
     "metadata": {},
     "output_type": "execute_result"
    }
   ],
   "source": [
    "\n",
    "batch = data[[ 18958,  49361,  53668,  58243,  61434,  66717,  79243,  82652,\n",
    "             86714, 101727, 103369, 104267, 104351, 133756, 135167, 137244,\n",
    "            144667, 145391, 158685, 158997, 164406, 165125],:]\n",
    "\n",
    "cdfs = trainer.predict_batch(batch)\n",
    "cdfs"
   ]
  }
 ],
 "metadata": {
  "kernelspec": {
   "display_name": "Python 3",
   "language": "python",
   "name": "python3"
  },
  "language_info": {
   "codemirror_mode": {
    "name": "ipython",
    "version": 3
   },
   "file_extension": ".py",
   "mimetype": "text/x-python",
   "name": "python",
   "nbconvert_exporter": "python",
   "pygments_lexer": "ipython3",
   "version": "3.8.2"
  }
 },
 "nbformat": 4,
 "nbformat_minor": 5
}
