{
 "cells": [
  {
   "cell_type": "code",
   "execution_count": 1,
   "id": "944f04eb-2e9f-4183-9225-7cc0fdd4015d",
   "metadata": {},
   "outputs": [],
   "source": [
    "%matplotlib inline\n",
    "import matplotlib.pyplot as plt"
   ]
  },
  {
   "cell_type": "code",
   "execution_count": 2,
   "id": "4c69e92b-a6ea-4caf-8452-a19050b3b5f1",
   "metadata": {},
   "outputs": [],
   "source": [
    "from utils.config import cfg\n",
    "cfg.DATA.DATASET = 'kidney'\n",
    "cfg.DATA.PATH = 'datasets/'"
   ]
  },
  {
   "cell_type": "code",
   "execution_count": 3,
   "id": "faf967c3-eda2-4492-aeb8-5b47e74672f1",
   "metadata": {},
   "outputs": [],
   "source": [
    "from dataset_loader import load_data"
   ]
  },
  {
   "cell_type": "code",
   "execution_count": 4,
   "id": "67b9cadd-a340-4ea2-abee-1c9f4c0853e2",
   "metadata": {},
   "outputs": [
    {
     "name": "stdout",
     "output_type": "stream",
     "text": [
      "\n",
      "Dataset kidney info:\n",
      "Nb. col: 26\n",
      "Nb unique t: 7299\n",
      "Min t: 0.0\n",
      "Max t: 21.356164383561644\n"
     ]
    }
   ],
   "source": [
    "data, dict_col = load_data(cfg)"
   ]
  },
  {
   "cell_type": "code",
   "execution_count": 5,
   "id": "be53f0c8-57a0-41e2-9729-a8590c3e2a4b",
   "metadata": {},
   "outputs": [],
   "source": [
    "import numpy as np\n",
    "import pandas as pd\n",
    "from sklearn.model_selection import KFold\n",
    "from sklearn.preprocessing import MinMaxScaler"
   ]
  },
  {
   "cell_type": "code",
   "execution_count": 6,
   "id": "afd27681-9ab6-4bd4-85c0-5097c3503335",
   "metadata": {},
   "outputs": [],
   "source": [
    "kf = KFold(n_splits=5)\n",
    "\n",
    "index_train = []\n",
    "index_valid = []\n",
    "index_test = []\n",
    "for train, test in kf.split(data):\n",
    "    index_train.append(train[:int(len(data)*0.6)])\n",
    "    index_valid.append(train[int(len(data)*0.6):])\n",
    "    index_test.append(test)"
   ]
  },
  {
   "cell_type": "code",
   "execution_count": 7,
   "id": "06843b84-d947-4d40-b241-980350e49ef9",
   "metadata": {},
   "outputs": [],
   "source": [
    "for split in range(5):\n",
    "    train = data[index_train[split]]\n",
    "    val = data[index_valid[split]]\n",
    "    test = data[index_test[split]]\n",
    "    \n",
    "    # Normalise the data\n",
    "    col_name = [\"time\", \"event\"] + dict_col['col']\n",
    "    df_train = pd.DataFrame(data=train, columns=col_name)\n",
    "    df_val = pd.DataFrame(data=val, columns=col_name)\n",
    "    df_test = pd.DataFrame(data=test, columns=col_name)\n",
    "    scaler = MinMaxScaler()\n",
    "    df_train[dict_col['continuous_keys']] = scaler.fit_transform(df_train[dict_col['continuous_keys']])\n",
    "    df_val[dict_col['continuous_keys']] = scaler.transform(df_val[dict_col['continuous_keys']])\n",
    "    df_test[dict_col['continuous_keys']] = scaler.transform(df_test[dict_col['continuous_keys']])\n",
    "\n",
    "    train = df_train.to_numpy()\n",
    "    val = df_val.to_numpy()\n",
    "    test = df_test.to_numpy()\n",
    "    break"
   ]
  },
  {
   "cell_type": "code",
   "execution_count": 8,
   "id": "22d2ac70-ff4f-4ce8-8a3b-c7f1ca3274c9",
   "metadata": {},
   "outputs": [],
   "source": [
    "from lifelines import CoxPHFitter\n",
    "cph = CoxPHFitter()"
   ]
  },
  {
   "cell_type": "code",
   "execution_count": 9,
   "id": "0923da9b-f10a-40c0-9502-8b0866695c56",
   "metadata": {},
   "outputs": [],
   "source": [
    "# df_train['ETHCAT_1'] = df_train['ETHCAT_1'].astype(np.int64)"
   ]
  },
  {
   "cell_type": "code",
   "execution_count": 10,
   "id": "9696f33a-8861-4692-8795-ebdbb274263d",
   "metadata": {},
   "outputs": [
    {
     "data": {
      "text/plain": [
       "'CKD_CAUSE_Other'"
      ]
     },
     "execution_count": 10,
     "metadata": {},
     "output_type": "execute_result"
    }
   ],
   "source": [
    "df_train.columns[17]"
   ]
  },
  {
   "cell_type": "code",
   "execution_count": 11,
   "id": "cb5b1329-dd4e-4243-a34e-926e071ccfb1",
   "metadata": {},
   "outputs": [
    {
     "data": {
      "text/plain": [
       "(100, 18)"
      ]
     },
     "execution_count": 11,
     "metadata": {},
     "output_type": "execute_result"
    }
   ],
   "source": [
    "df_train[df_train.columns[:18]][:100].shape"
   ]
  },
  {
   "cell_type": "code",
   "execution_count": 12,
   "id": "3bd418f8-5630-491e-997b-f8efedf49162",
   "metadata": {},
   "outputs": [
    {
     "data": {
      "text/plain": [
       "Index(['time', 'event', 'TIME_ON_DIALYSIS', 'TIME_ON_DIALYSIS_nan', 'PRA_REC',\n",
       "       'PRA_REC_nan', 'AGE', 'AGE_DON', 'BUN_DON', 'CREAT_DON', 'HGT_CM_CALC',\n",
       "       'HGT_CM_DON_CALC', 'WGT_KG_CALC', 'WGT_KG_DON_CALC',\n",
       "       'CKD_CAUSE_Familial', 'CKD_CAUSE_GN', 'CKD_CAUSE_Hypertension-Vascular',\n",
       "       'CKD_CAUSE_Other'],\n",
       "      dtype='object')"
      ]
     },
     "execution_count": 12,
     "metadata": {},
     "output_type": "execute_result"
    }
   ],
   "source": [
    "df_train.columns[:18]"
   ]
  },
  {
   "cell_type": "code",
   "execution_count": 14,
   "id": "d22bc55b-d2a9-41e9-b9e7-d83fefc51961",
   "metadata": {},
   "outputs": [
    {
     "data": {
      "text/plain": [
       "[<matplotlib.lines.Line2D at 0x7fe739cc84f0>]"
      ]
     },
     "execution_count": 14,
     "metadata": {},
     "output_type": "execute_result"
    },
    {
     "data": {
      "image/png": "[encoded data removed]",
      "text/plain": [
       "<Figure size 432x288 with 1 Axes>"
      ]
     },
     "metadata": {
      "needs_background": "light"
     },
     "output_type": "display_data"
    }
   ],
   "source": [
    "plt.plot(sorted(df_train['CKD_CAUSE_Other'].values))"
   ]
  },
  {
   "cell_type": "code",
   "execution_count": 37,
   "id": "63d40e84-d5ff-4b27-b7a5-714d395a665e",
   "metadata": {},
   "outputs": [
    {
     "data": {
      "text/plain": [
       "time                               6.311929\n",
       "event                              0.345727\n",
       "TIME_ON_DIALYSIS                   0.292066\n",
       "TIME_ON_DIALYSIS_nan               0.018686\n",
       "PRA_REC                            0.144289\n",
       "PRA_REC_nan                        0.010345\n",
       "AGE                                0.455398\n",
       "AGE_DON                            0.422807\n",
       "BUN_DON                            0.071415\n",
       "CREAT_DON                          0.043167\n",
       "HGT_CM_CALC                        0.536483\n",
       "HGT_CM_DON_CALC                    0.673850\n",
       "WGT_KG_CALC                        0.319371\n",
       "WGT_KG_DON_CALC                    0.377020\n",
       "CKD_CAUSE_Familial                 0.095615\n",
       "CKD_CAUSE_GN                       0.156411\n",
       "CKD_CAUSE_Hypertension-Vascular    0.290209\n",
       "CKD_CAUSE_Other                    0.151994\n",
       "ETHCAT_1                           0.411250\n",
       "ETHCAT_2                           0.342233\n",
       "ETHCAT_4                           0.160096\n",
       "DRMIS_1                            0.449564\n",
       "DRMIS_2                            0.372285\n",
       "ETHCAT_DON_1                       0.688901\n",
       "ETHCAT_DON_2                       0.134760\n",
       "ETHCAT_DON_4                       0.136432\n",
       "AMIS_1                             0.369100\n",
       "AMIS_2                             0.488769\n",
       "dtype: float32"
      ]
     },
     "execution_count": 37,
     "metadata": {},
     "output_type": "execute_result"
    }
   ],
   "source": [
    "df_train.mean(axis=0)"
   ]
  },
  {
   "cell_type": "code",
   "execution_count": 38,
   "id": "e60b4dd0-18c4-4967-b31b-b8f454aa980c",
   "metadata": {},
   "outputs": [],
   "source": [
    "df_train['CKD_CAUSE_Other'] += 1"
   ]
  },
  {
   "cell_type": "code",
   "execution_count": null,
   "id": "a2ad6f0d-205b-4872-92c4-c1005bdd00a4",
   "metadata": {},
   "outputs": [],
   "source": [
    "cph.fit(df_train[df_train.columns[:18]], duration_col='time', event_col='event')"
   ]
  },
  {
   "cell_type": "code",
   "execution_count": 8,
   "id": "d7dcbda3-1305-4440-a2ad-236b0f01d344",
   "metadata": {},
   "outputs": [],
   "source": [
    "# from sksurv.datasets import load_whas500\n",
    "# X, y = load_whas500()"
   ]
  },
  {
   "cell_type": "code",
   "execution_count": 33,
   "id": "76263aca-8e98-4007-a06e-91df56eac88c",
   "metadata": {},
   "outputs": [],
   "source": [
    "from lifelines.datasets import load_rossi\n",
    "\n",
    "rossi = load_rossi()"
   ]
  },
  {
   "cell_type": "code",
   "execution_count": null,
   "id": "da811f37-2d70-46f8-88f0-4bcdcd3aaa93",
   "metadata": {},
   "outputs": [],
   "source": [
    "cph = CoxPHFitter()\n",
    "cph.fit(rossi, duration_col='week', event_col='arrest')"
   ]
  },
  {
   "cell_type": "code",
   "execution_count": null,
   "id": "18219619-dbdd-4aa7-9a88-389ed7017518",
   "metadata": {},
   "outputs": [],
   "source": []
  },
  {
   "cell_type": "code",
   "execution_count": null,
   "id": "6a5ed3c5-b151-4d64-9979-451b5e09b7d5",
   "metadata": {},
   "outputs": [],
   "source": []
  },
  {
   "cell_type": "code",
   "execution_count": null,
   "id": "4298c9c5-1668-41b0-84bf-201e3c67a149",
   "metadata": {},
   "outputs": [],
   "source": []
  },
  {
   "cell_type": "code",
   "execution_count": null,
   "id": "1d957ce4-0687-49b2-9848-d18f1d4486fa",
   "metadata": {},
   "outputs": [
    {
     "name": "stdout",
     "output_type": "stream",
     "text": [
      "\n",
      "Dataset kidney info:\n",
      "Nb. col: 26\n",
      "Nb unique t: 7299\n",
      "Min t: 0.0\n",
      "Max t: 21.356164383561644\n"
     ]
    }
   ],
   "source": [
    "import matplotlib.pyplot as plt\n",
    "from utils.config import cfg\n",
    "from dataset_loader import load_data\n",
    "import numpy as np\n",
    "import pandas as pd\n",
    "from sklearn.model_selection import KFold\n",
    "from sklearn.preprocessing import MinMaxScaler\n",
    "from lifelines import CoxPHFitter\n",
    "\n",
    "cfg.DATA.DATASET = 'kidney'\n",
    "cfg.DATA.PATH = 'datasets/'\n",
    "data, dict_col = load_data(cfg)\n",
    "\n",
    "kf = KFold(n_splits=5)\n",
    "\n",
    "index_train = []\n",
    "index_valid = []\n",
    "index_test = []\n",
    "for train, test in kf.split(data):\n",
    "    index_train.append(train[:int(len(data)*0.6)])\n",
    "    index_valid.append(train[int(len(data)*0.6):])\n",
    "    index_test.append(test)\n",
    "    \n",
    "for split in range(5):\n",
    "    train = data[index_train[split]]\n",
    "    val = data[index_valid[split]]\n",
    "    test = data[index_test[split]]\n",
    "    \n",
    "    # Normalise the data\n",
    "    col_name = [\"time\", \"event\"] + dict_col['col']\n",
    "    df_train = pd.DataFrame(data=train, columns=col_name)\n",
    "    df_val = pd.DataFrame(data=val, columns=col_name)\n",
    "    df_test = pd.DataFrame(data=test, columns=col_name)\n",
    "#     scaler = MinMaxScaler()\n",
    "#     df_train[dict_col['continuous_keys']] = scaler.fit_transform(df_train[dict_col['continuous_keys']])\n",
    "#     df_val[dict_col['continuous_keys']] = scaler.transform(df_val[dict_col['continuous_keys']])\n",
    "#     df_test[dict_col['continuous_keys']] = scaler.transform(df_test[dict_col['continuous_keys']])\n",
    "\n",
    "    train = df_train.to_numpy()\n",
    "    val = df_val.to_numpy()\n",
    "    test = df_test.to_numpy()\n",
    "    break\n",
    "    \n",
    "cph = CoxPHFitter()\n",
    "cph.fit(df_train, duration_col='time', event_col='event')"
   ]
  },
  {
   "cell_type": "code",
   "execution_count": 1,
   "id": "bcd4c525-7dc1-485e-a7a3-0af15323e24b",
   "metadata": {},
   "outputs": [],
   "source": [
    "from lifelines.datasets import load_rossi\n",
    "\n",
    "rossi = load_rossi()"
   ]
  },
  {
   "cell_type": "code",
   "execution_count": 2,
   "id": "a6ed411a-ce7d-4949-aac1-4138ddf76fe9",
   "metadata": {},
   "outputs": [
    {
     "data": {
      "text/plain": [
       "dtype('int64')"
      ]
     },
     "execution_count": 2,
     "metadata": {},
     "output_type": "execute_result"
    }
   ],
   "source": [
    "rossi.values.dtype"
   ]
  },
  {
   "cell_type": "code",
   "execution_count": 12,
   "id": "5507dcc3-5035-4ea1-ae53-8215cf4e4279",
   "metadata": {},
   "outputs": [
    {
     "data": {
      "text/plain": [
       "<lifelines.CoxPHFitter: fitted with 432 total observations, 318 right-censored observations>"
      ]
     },
     "execution_count": 12,
     "metadata": {},
     "output_type": "execute_result"
    }
   ],
   "source": [
    "from lifelines import CoxPHFitter\n",
    "from lifelines.datasets import load_rossi\n",
    "import numpy as np\n",
    "\n",
    "rossi = load_rossi()\n",
    "for c in rossi.columns:\n",
    "    rossi[c] = rossi[c].astype(np.float32)\n",
    "\n",
    "cph = CoxPHFitter()\n",
    "cph.fit(rossi, duration_col='week', event_col='arrest')"
   ]
  },
  {
   "cell_type": "code",
   "execution_count": 13,
   "id": "850bf1f3-2ecd-41a8-a9a2-f20fe03586d3",
   "metadata": {},
   "outputs": [
    {
     "name": "stderr",
     "output_type": "stream",
     "text": [
      "/local_workspace/piepmike/ml/lib/python3.8/site-packages/lifelines/utils/printer.py:62: FutureWarning: In future versions `DataFrame.to_latex` is expected to utilise the base implementation of `Styler.to_latex` for formatting and rendering. The arguments signature may therefore change. It is recommended instead to use `DataFrame.style.to_latex` which also contains additional functionality.\n",
      "  return summary_df[columns].to_latex(float_format=\"%.\" + str(self.decimals) + \"f\")\n"
     ]
    },
    {
     "data": {
      "text/html": [
       "<div>\n",
       "<style scoped>\n",
       "    .dataframe tbody tr th:only-of-type {\n",
       "        vertical-align: middle;\n",
       "    }\n",
       "\n",
       "    .dataframe tbody tr th {\n",
       "        vertical-align: top;\n",
       "    }\n",
       "\n",
       "    .dataframe thead th {\n",
       "        text-align: right;\n",
       "    }\n",
       "</style>\n",
       "<table border=\"1\" class=\"dataframe\">\n",
       "  <tbody>\n",
       "    <tr>\n",
       "      <th>model</th>\n",
       "      <td>lifelines.CoxPHFitter</td>\n",
       "    </tr>\n",
       "    <tr>\n",
       "      <th>duration col</th>\n",
       "      <td>'week'</td>\n",
       "    </tr>\n",
       "    <tr>\n",
       "      <th>event col</th>\n",
       "      <td>'arrest'</td>\n",
       "    </tr>\n",
       "    <tr>\n",
       "      <th>baseline estimation</th>\n",
       "      <td>breslow</td>\n",
       "    </tr>\n",
       "    <tr>\n",
       "      <th>number of observations</th>\n",
       "      <td>432</td>\n",
       "    </tr>\n",
       "    <tr>\n",
       "      <th>number of events observed</th>\n",
       "      <td>114</td>\n",
       "    </tr>\n",
       "    <tr>\n",
       "      <th>partial log-likelihood</th>\n",
       "      <td>-658.75</td>\n",
       "    </tr>\n",
       "    <tr>\n",
       "      <th>time fit was run</th>\n",
       "      <td>2022-03-06 01:08:31 UTC</td>\n",
       "    </tr>\n",
       "  </tbody>\n",
       "</table>\n",
       "</div><table border=\"1\" class=\"dataframe\">\n",
       "  <thead>\n",
       "    <tr style=\"text-align: right;\">\n",
       "      <th style=\"min-width: 12px;\"></th>\n",
       "      <th style=\"min-width: 12px;\">coef</th>\n",
       "      <th style=\"min-width: 12px;\">exp(coef)</th>\n",
       "      <th style=\"min-width: 12px;\">se(coef)</th>\n",
       "      <th style=\"min-width: 12px;\">coef lower 95%</th>\n",
       "      <th style=\"min-width: 12px;\">coef upper 95%</th>\n",
       "      <th style=\"min-width: 12px;\">exp(coef) lower 95%</th>\n",
       "      <th style=\"min-width: 12px;\">exp(coef) upper 95%</th>\n",
       "      <th style=\"min-width: 12px;\">z</th>\n",
       "      <th style=\"min-width: 12px;\">p</th>\n",
       "      <th style=\"min-width: 12px;\">-log2(p)</th>\n",
       "    </tr>\n",
       "  </thead>\n",
       "  <tbody>\n",
       "    <tr>\n",
       "      <th>fin</th>\n",
       "      <td>-0.38</td>\n",
       "      <td>0.68</td>\n",
       "      <td>0.19</td>\n",
       "      <td>-0.75</td>\n",
       "      <td>-0.00</td>\n",
       "      <td>0.47</td>\n",
       "      <td>1.00</td>\n",
       "      <td>-1.98</td>\n",
       "      <td>0.05</td>\n",
       "      <td>4.40</td>\n",
       "    </tr>\n",
       "    <tr>\n",
       "      <th>age</th>\n",
       "      <td>-0.06</td>\n",
       "      <td>0.94</td>\n",
       "      <td>0.02</td>\n",
       "      <td>-0.10</td>\n",
       "      <td>-0.01</td>\n",
       "      <td>0.90</td>\n",
       "      <td>0.99</td>\n",
       "      <td>-2.61</td>\n",
       "      <td>0.01</td>\n",
       "      <td>6.79</td>\n",
       "    </tr>\n",
       "    <tr>\n",
       "      <th>race</th>\n",
       "      <td>0.31</td>\n",
       "      <td>1.37</td>\n",
       "      <td>0.31</td>\n",
       "      <td>-0.29</td>\n",
       "      <td>0.92</td>\n",
       "      <td>0.75</td>\n",
       "      <td>2.50</td>\n",
       "      <td>1.02</td>\n",
       "      <td>0.31</td>\n",
       "      <td>1.70</td>\n",
       "    </tr>\n",
       "    <tr>\n",
       "      <th>wexp</th>\n",
       "      <td>-0.15</td>\n",
       "      <td>0.86</td>\n",
       "      <td>0.21</td>\n",
       "      <td>-0.57</td>\n",
       "      <td>0.27</td>\n",
       "      <td>0.57</td>\n",
       "      <td>1.30</td>\n",
       "      <td>-0.71</td>\n",
       "      <td>0.48</td>\n",
       "      <td>1.06</td>\n",
       "    </tr>\n",
       "    <tr>\n",
       "      <th>mar</th>\n",
       "      <td>-0.43</td>\n",
       "      <td>0.65</td>\n",
       "      <td>0.38</td>\n",
       "      <td>-1.18</td>\n",
       "      <td>0.31</td>\n",
       "      <td>0.31</td>\n",
       "      <td>1.37</td>\n",
       "      <td>-1.14</td>\n",
       "      <td>0.26</td>\n",
       "      <td>1.97</td>\n",
       "    </tr>\n",
       "    <tr>\n",
       "      <th>paro</th>\n",
       "      <td>-0.08</td>\n",
       "      <td>0.92</td>\n",
       "      <td>0.20</td>\n",
       "      <td>-0.47</td>\n",
       "      <td>0.30</td>\n",
       "      <td>0.63</td>\n",
       "      <td>1.35</td>\n",
       "      <td>-0.43</td>\n",
       "      <td>0.66</td>\n",
       "      <td>0.59</td>\n",
       "    </tr>\n",
       "    <tr>\n",
       "      <th>prio</th>\n",
       "      <td>0.09</td>\n",
       "      <td>1.10</td>\n",
       "      <td>0.03</td>\n",
       "      <td>0.04</td>\n",
       "      <td>0.15</td>\n",
       "      <td>1.04</td>\n",
       "      <td>1.16</td>\n",
       "      <td>3.19</td>\n",
       "      <td>&lt;0.005</td>\n",
       "      <td>9.48</td>\n",
       "    </tr>\n",
       "  </tbody>\n",
       "</table><br><div>\n",
       "<style scoped>\n",
       "    .dataframe tbody tr th:only-of-type {\n",
       "        vertical-align: middle;\n",
       "    }\n",
       "\n",
       "    .dataframe tbody tr th {\n",
       "        vertical-align: top;\n",
       "    }\n",
       "\n",
       "    .dataframe thead th {\n",
       "        text-align: right;\n",
       "    }\n",
       "</style>\n",
       "<table border=\"1\" class=\"dataframe\">\n",
       "  <tbody>\n",
       "    <tr>\n",
       "      <th>Concordance</th>\n",
       "      <td>0.64</td>\n",
       "    </tr>\n",
       "    <tr>\n",
       "      <th>Partial AIC</th>\n",
       "      <td>1331.50</td>\n",
       "    </tr>\n",
       "    <tr>\n",
       "      <th>log-likelihood ratio test</th>\n",
       "      <td>33.27 on 7 df</td>\n",
       "    </tr>\n",
       "    <tr>\n",
       "      <th>-log2(p) of ll-ratio test</th>\n",
       "      <td>15.37</td>\n",
       "    </tr>\n",
       "  </tbody>\n",
       "</table>\n",
       "</div>"
      ],
      "text/latex": [
       "\\begin{tabular}{lrrrrrrrrrr}\n",
       "\\toprule\n",
       "{} &  coef &  exp(coef) &  se(coef) &  coef lower 95\\% &  coef upper 95\\% &  exp(coef) lower 95\\% &  exp(coef) upper 95\\% &     z &    p &  -log2(p) \\\\\n",
       "covariate &       &            &           &                 &                 &                      &                      &       &      &           \\\\\n",
       "\\midrule\n",
       "fin       & -0.38 &       0.68 &      0.19 &           -0.75 &           -0.00 &                 0.47 &                 1.00 & -1.98 & 0.05 &      4.40 \\\\\n",
       "age       & -0.06 &       0.94 &      0.02 &           -0.10 &           -0.01 &                 0.90 &                 0.99 & -2.61 & 0.01 &      6.79 \\\\\n",
       "race      &  0.31 &       1.37 &      0.31 &           -0.29 &            0.92 &                 0.75 &                 2.50 &  1.02 & 0.31 &      1.70 \\\\\n",
       "wexp      & -0.15 &       0.86 &      0.21 &           -0.57 &            0.27 &                 0.57 &                 1.30 & -0.71 & 0.48 &      1.06 \\\\\n",
       "mar       & -0.43 &       0.65 &      0.38 &           -1.18 &            0.31 &                 0.31 &                 1.37 & -1.14 & 0.26 &      1.97 \\\\\n",
       "paro      & -0.08 &       0.92 &      0.20 &           -0.47 &            0.30 &                 0.63 &                 1.35 & -0.43 & 0.66 &      0.59 \\\\\n",
       "prio      &  0.09 &       1.10 &      0.03 &            0.04 &            0.15 &                 1.04 &                 1.16 &  3.19 & 0.00 &      9.48 \\\\\n",
       "\\bottomrule\n",
       "\\end{tabular}\n"
      ],
      "text/plain": [
       "<lifelines.CoxPHFitter: fitted with 432 total observations, 318 right-censored observations>\n",
       "             duration col = 'week'\n",
       "                event col = 'arrest'\n",
       "      baseline estimation = breslow\n",
       "   number of observations = 432\n",
       "number of events observed = 114\n",
       "   partial log-likelihood = -658.75\n",
       "         time fit was run = 2022-03-06 01:08:31 UTC\n",
       "\n",
       "---\n",
       "            coef  exp(coef)   se(coef)   coef lower 95%   coef upper 95%  exp(coef) lower 95%  exp(coef) upper 95%\n",
       "covariate                                                                                                         \n",
       "fin        -0.38       0.68       0.19            -0.75            -0.00                 0.47                 1.00\n",
       "age        -0.06       0.94       0.02            -0.10            -0.01                 0.90                 0.99\n",
       "race        0.31       1.37       0.31            -0.29             0.92                 0.75                 2.50\n",
       "wexp       -0.15       0.86       0.21            -0.57             0.27                 0.57                 1.30\n",
       "mar        -0.43       0.65       0.38            -1.18             0.31                 0.31                 1.37\n",
       "paro       -0.08       0.92       0.20            -0.47             0.30                 0.63                 1.35\n",
       "prio        0.09       1.10       0.03             0.04             0.15                 1.04                 1.16\n",
       "\n",
       "              z      p   -log2(p)\n",
       "covariate                        \n",
       "fin       -1.98   0.05       4.40\n",
       "age       -2.61   0.01       6.79\n",
       "race       1.02   0.31       1.70\n",
       "wexp      -0.71   0.48       1.06\n",
       "mar       -1.14   0.26       1.97\n",
       "paro      -0.43   0.66       0.59\n",
       "prio       3.19 <0.005       9.48\n",
       "---\n",
       "Concordance = 0.64\n",
       "Partial AIC = 1331.50\n",
       "log-likelihood ratio test = 33.27 on 7 df\n",
       "-log2(p) of ll-ratio test = 15.37"
      ]
     },
     "metadata": {},
     "output_type": "display_data"
    }
   ],
   "source": [
    "cph.print_summary()"
   ]
  },
  {
   "cell_type": "code",
   "execution_count": null,
   "id": "7bf2809f-a5d1-4a1b-a196-40dd3a883c84",
   "metadata": {},
   "outputs": [],
   "source": []
  }
 ],
 "metadata": {
  "kernelspec": {
   "display_name": "Python 3",
   "language": "python",
   "name": "python3"
  },
  "language_info": {
   "codemirror_mode": {
    "name": "ipython",
    "version": 3
   },
   "file_extension": ".py",
   "mimetype": "text/x-python",
   "name": "python",
   "nbconvert_exporter": "python",
   "pygments_lexer": "ipython3",
   "version": "3.8.2"
  }
 },
 "nbformat": 4,
 "nbformat_minor": 5
}
